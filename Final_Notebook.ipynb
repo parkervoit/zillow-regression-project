{
 "cells": [
  {
   "cell_type": "markdown",
   "metadata": {},
   "source": [
    "# Zillow Price Prediction\n",
    "By Parker Voit"
   ]
  },
  {
   "cell_type": "markdown",
   "metadata": {},
   "source": [
    "### Project Goals\n",
    "- Predict tax values of single unit properties with a transaction during the months of May - August 2017. \n",
    "    - Also predict tax rate distributions for each county code included\n",
    "    - identify the state and county the data is located in "
   ]
  },
  {
   "cell_type": "markdown",
   "metadata": {},
   "source": [
    "### Project Planning\n",
    "- Create a detailed README.md for with project goals, data dictionary, hypothesis with testing results, and anything else needed for reproducibility\n",
    "- Acquire single unit property data with a transaction date between May and August 2017\n",
    "- Prep data by dropping duplicates, nulls, and data points more than 3 standard deviations away\n",
    "- Will need to scale data, too\n",
    "- Look up FIPS codes and calculate tax rate to determine distributions\n",
    "- Use visualizations and stats to determine drivers of property cost\n",
    "- Develop hypotheses for drivers\n",
    "- Create baselines and choose best based off of RMSE\n",
    "- Determine type of regression based off of target distribution\n",
    "- Choose best performing model based off of findings\n",
    "- Improve on MVP through feature engineering and automated feature selection"
   ]
  },
  {
   "cell_type": "markdown",
   "metadata": {},
   "source": [
    "## Acquire\n"
   ]
  },
  {
   "cell_type": "code",
   "execution_count": 1,
   "metadata": {},
   "outputs": [],
   "source": [
    "import math\n",
    "import warnings\n",
    "warnings.filterwarnings(\"ignore\")\n",
    "import pandas as pd\n",
    "import numpy as np\n",
    "import seaborn as sns\n",
    "import scipy.stats as stats\n",
    "import matplotlib.pyplot as plt\n",
    "from sklearn.linear_model import LinearRegression, LassoLars, TweedieRegressor\n",
    "from sklearn.feature_selection import SelectKBest, f_regression, chi2, RFE\n",
    "from sklearn.metrics import explained_variance_score, mean_squared_error, r2_score\n",
    "import sklearn.preprocessing\n",
    "from env import username, host, password\n",
    "import acquire, prepare, explore, evaluate"
   ]
  },
  {
   "cell_type": "code",
   "execution_count": 2,
   "metadata": {},
   "outputs": [],
   "source": [
    "# function pulls all single family residential properties from may-august 2017\n",
    "zillow_df = acquire.get_zillow_db()"
   ]
  },
  {
   "cell_type": "code",
   "execution_count": 3,
   "metadata": {},
   "outputs": [
    {
     "data": {
      "text/html": [
       "<div>\n",
       "<style scoped>\n",
       "    .dataframe tbody tr th:only-of-type {\n",
       "        vertical-align: middle;\n",
       "    }\n",
       "\n",
       "    .dataframe tbody tr th {\n",
       "        vertical-align: top;\n",
       "    }\n",
       "\n",
       "    .dataframe thead th {\n",
       "        text-align: right;\n",
       "    }\n",
       "</style>\n",
       "<table border=\"1\" class=\"dataframe\">\n",
       "  <thead>\n",
       "    <tr style=\"text-align: right;\">\n",
       "      <th></th>\n",
       "      <th>count</th>\n",
       "      <th>mean</th>\n",
       "      <th>std</th>\n",
       "      <th>min</th>\n",
       "      <th>25%</th>\n",
       "      <th>50%</th>\n",
       "      <th>75%</th>\n",
       "      <th>max</th>\n",
       "    </tr>\n",
       "  </thead>\n",
       "  <tbody>\n",
       "    <tr>\n",
       "      <th>parcelid</th>\n",
       "      <td>28124.00</td>\n",
       "      <td>13042388.38</td>\n",
       "      <td>3747699.81</td>\n",
       "      <td>10711855.00</td>\n",
       "      <td>11513802.75</td>\n",
       "      <td>12596700.00</td>\n",
       "      <td>14149137.75</td>\n",
       "      <td>167687839.00</td>\n",
       "    </tr>\n",
       "    <tr>\n",
       "      <th>bed</th>\n",
       "      <td>28124.00</td>\n",
       "      <td>3.31</td>\n",
       "      <td>0.94</td>\n",
       "      <td>0.00</td>\n",
       "      <td>3.00</td>\n",
       "      <td>3.00</td>\n",
       "      <td>4.00</td>\n",
       "      <td>12.00</td>\n",
       "    </tr>\n",
       "    <tr>\n",
       "      <th>bath</th>\n",
       "      <td>28124.00</td>\n",
       "      <td>2.32</td>\n",
       "      <td>1.02</td>\n",
       "      <td>0.00</td>\n",
       "      <td>2.00</td>\n",
       "      <td>2.00</td>\n",
       "      <td>3.00</td>\n",
       "      <td>11.00</td>\n",
       "    </tr>\n",
       "    <tr>\n",
       "      <th>sqft</th>\n",
       "      <td>28077.00</td>\n",
       "      <td>1934.93</td>\n",
       "      <td>995.68</td>\n",
       "      <td>240.00</td>\n",
       "      <td>1278.00</td>\n",
       "      <td>1675.00</td>\n",
       "      <td>2326.00</td>\n",
       "      <td>17245.00</td>\n",
       "    </tr>\n",
       "    <tr>\n",
       "      <th>tax_value</th>\n",
       "      <td>28123.00</td>\n",
       "      <td>535004.92</td>\n",
       "      <td>707681.06</td>\n",
       "      <td>1000.00</td>\n",
       "      <td>198636.00</td>\n",
       "      <td>382798.00</td>\n",
       "      <td>632767.00</td>\n",
       "      <td>23858374.00</td>\n",
       "    </tr>\n",
       "    <tr>\n",
       "      <th>yearbuilt</th>\n",
       "      <td>28053.00</td>\n",
       "      <td>1963.77</td>\n",
       "      <td>23.11</td>\n",
       "      <td>1878.00</td>\n",
       "      <td>1950.00</td>\n",
       "      <td>1961.00</td>\n",
       "      <td>1979.00</td>\n",
       "      <td>2016.00</td>\n",
       "    </tr>\n",
       "    <tr>\n",
       "      <th>taxamount</th>\n",
       "      <td>28123.00</td>\n",
       "      <td>6508.83</td>\n",
       "      <td>8221.72</td>\n",
       "      <td>51.26</td>\n",
       "      <td>2705.33</td>\n",
       "      <td>4735.28</td>\n",
       "      <td>7528.40</td>\n",
       "      <td>276797.83</td>\n",
       "    </tr>\n",
       "    <tr>\n",
       "      <th>fips</th>\n",
       "      <td>28124.00</td>\n",
       "      <td>6049.52</td>\n",
       "      <td>21.30</td>\n",
       "      <td>6037.00</td>\n",
       "      <td>6037.00</td>\n",
       "      <td>6037.00</td>\n",
       "      <td>6059.00</td>\n",
       "      <td>6111.00</td>\n",
       "    </tr>\n",
       "  </tbody>\n",
       "</table>\n",
       "</div>"
      ],
      "text/plain": [
       "              count         mean         std          min          25%  \\\n",
       "parcelid   28124.00  13042388.38  3747699.81  10711855.00  11513802.75   \n",
       "bed        28124.00         3.31        0.94         0.00         3.00   \n",
       "bath       28124.00         2.32        1.02         0.00         2.00   \n",
       "sqft       28077.00      1934.93      995.68       240.00      1278.00   \n",
       "tax_value  28123.00    535004.92   707681.06      1000.00    198636.00   \n",
       "yearbuilt  28053.00      1963.77       23.11      1878.00      1950.00   \n",
       "taxamount  28123.00      6508.83     8221.72        51.26      2705.33   \n",
       "fips       28124.00      6049.52       21.30      6037.00      6037.00   \n",
       "\n",
       "                   50%          75%           max  \n",
       "parcelid   12596700.00  14149137.75  167687839.00  \n",
       "bed               3.00         4.00         12.00  \n",
       "bath              2.00         3.00         11.00  \n",
       "sqft           1675.00      2326.00      17245.00  \n",
       "tax_value    382798.00    632767.00   23858374.00  \n",
       "yearbuilt      1961.00      1979.00       2016.00  \n",
       "taxamount      4735.28      7528.40     276797.83  \n",
       "fips           6037.00      6059.00       6111.00  "
      ]
     },
     "execution_count": 3,
     "metadata": {},
     "output_type": "execute_result"
    }
   ],
   "source": [
    "zillow_df.describe().apply(lambda x: x.apply('{0:.2f}'.format)).T"
   ]
  },
  {
   "cell_type": "code",
   "execution_count": 4,
   "metadata": {},
   "outputs": [
    {
     "name": "stdout",
     "output_type": "stream",
     "text": [
      "<class 'pandas.core.frame.DataFrame'>\n",
      "Int64Index: 28124 entries, 0 to 28123\n",
      "Data columns (total 8 columns):\n",
      " #   Column     Non-Null Count  Dtype  \n",
      "---  ------     --------------  -----  \n",
      " 0   parcelid   28124 non-null  int64  \n",
      " 1   bed        28124 non-null  float64\n",
      " 2   bath       28124 non-null  float64\n",
      " 3   sqft       28077 non-null  float64\n",
      " 4   tax_value  28123 non-null  float64\n",
      " 5   yearbuilt  28053 non-null  float64\n",
      " 6   taxamount  28123 non-null  float64\n",
      " 7   fips       28124 non-null  float64\n",
      "dtypes: float64(7), int64(1)\n",
      "memory usage: 1.9 MB\n"
     ]
    }
   ],
   "source": [
    "zillow_df.info()"
   ]
  },
  {
   "cell_type": "code",
   "execution_count": 5,
   "metadata": {},
   "outputs": [
    {
     "name": "stdout",
     "output_type": "stream",
     "text": [
      "Your selected dataframe has 8 columns.\n",
      "There are 4columns that have missing values.\n"
     ]
    },
    {
     "data": {
      "text/html": [
       "<div>\n",
       "<style scoped>\n",
       "    .dataframe tbody tr th:only-of-type {\n",
       "        vertical-align: middle;\n",
       "    }\n",
       "\n",
       "    .dataframe tbody tr th {\n",
       "        vertical-align: top;\n",
       "    }\n",
       "\n",
       "    .dataframe thead th {\n",
       "        text-align: right;\n",
       "    }\n",
       "</style>\n",
       "<table border=\"1\" class=\"dataframe\">\n",
       "  <thead>\n",
       "    <tr style=\"text-align: right;\">\n",
       "      <th></th>\n",
       "      <th>Missing Values</th>\n",
       "      <th>% of Total Values</th>\n",
       "    </tr>\n",
       "  </thead>\n",
       "  <tbody>\n",
       "    <tr>\n",
       "      <th>yearbuilt</th>\n",
       "      <td>71</td>\n",
       "      <td>0.3</td>\n",
       "    </tr>\n",
       "    <tr>\n",
       "      <th>sqft</th>\n",
       "      <td>47</td>\n",
       "      <td>0.2</td>\n",
       "    </tr>\n",
       "    <tr>\n",
       "      <th>tax_value</th>\n",
       "      <td>1</td>\n",
       "      <td>0.0</td>\n",
       "    </tr>\n",
       "    <tr>\n",
       "      <th>taxamount</th>\n",
       "      <td>1</td>\n",
       "      <td>0.0</td>\n",
       "    </tr>\n",
       "  </tbody>\n",
       "</table>\n",
       "</div>"
      ],
      "text/plain": [
       "           Missing Values  % of Total Values\n",
       "yearbuilt              71                0.3\n",
       "sqft                   47                0.2\n",
       "tax_value               1                0.0\n",
       "taxamount               1                0.0"
      ]
     },
     "execution_count": 5,
     "metadata": {},
     "output_type": "execute_result"
    }
   ],
   "source": [
    "acquire.missing_values_table(zillow_df)"
   ]
  },
  {
   "cell_type": "markdown",
   "metadata": {},
   "source": [
    "#### Takeaways\n",
    "> - Parcelid can be excluded from data since it's an ID number.\n",
    "> - FIPS is a unique code for counties, these are LA, Orange, and Ventura counties in California. It is a categorical variable\n",
    "> - bed, bath, and sqft need to be scaled\n",
    "> - tax rate can be calculated by dividing tax_value by taxamount. "
   ]
  },
  {
   "cell_type": "markdown",
   "metadata": {},
   "source": [
    "## Prepare"
   ]
  },
  {
   "cell_type": "code",
   "execution_count": 6,
   "metadata": {},
   "outputs": [],
   "source": [
    "# begin by dropping nulls, duplicates, and outliers\n",
    "zillow_df = prepare.prep_df(zillow_df, 'tax_value' )"
   ]
  },
  {
   "cell_type": "code",
   "execution_count": 7,
   "metadata": {},
   "outputs": [],
   "source": [
    "# add county\n",
    "zillow_df['county'] = zillow_df['fips'].replace(to_replace = [6037, 6059, 6111], value = ['LA','Orange','Ventura'])\n",
    "zillow_df['encoded_county'] = zillow_df['fips'].replace(to_replace = [6037, 6059, 6111], value = [0, 1, 2])"
   ]
  },
  {
   "cell_type": "code",
   "execution_count": 8,
   "metadata": {},
   "outputs": [],
   "source": [
    "# calculate tax rate for future distribution \n",
    "zillow_df['tax_rate'] = zillow_df['taxamount']/zillow_df['tax_value']\n",
    "zillow_df['tax_rate_cent'] = (zillow_df['taxamount']/zillow_df['tax_value']) * 100"
   ]
  },
  {
   "cell_type": "code",
   "execution_count": 9,
   "metadata": {},
   "outputs": [
    {
     "data": {
      "text/html": [
       "<div>\n",
       "<style scoped>\n",
       "    .dataframe tbody tr th:only-of-type {\n",
       "        vertical-align: middle;\n",
       "    }\n",
       "\n",
       "    .dataframe tbody tr th {\n",
       "        vertical-align: top;\n",
       "    }\n",
       "\n",
       "    .dataframe thead th {\n",
       "        text-align: right;\n",
       "    }\n",
       "</style>\n",
       "<table border=\"1\" class=\"dataframe\">\n",
       "  <thead>\n",
       "    <tr style=\"text-align: right;\">\n",
       "      <th></th>\n",
       "      <th>count</th>\n",
       "      <th>mean</th>\n",
       "      <th>std</th>\n",
       "      <th>min</th>\n",
       "      <th>25%</th>\n",
       "      <th>50%</th>\n",
       "      <th>75%</th>\n",
       "      <th>max</th>\n",
       "    </tr>\n",
       "  </thead>\n",
       "  <tbody>\n",
       "    <tr>\n",
       "      <th>parcelid</th>\n",
       "      <td>27617.00</td>\n",
       "      <td>13034787.36</td>\n",
       "      <td>3545074.67</td>\n",
       "      <td>10711855.00</td>\n",
       "      <td>11503331.00</td>\n",
       "      <td>12606905.00</td>\n",
       "      <td>14149013.00</td>\n",
       "      <td>167639152.00</td>\n",
       "    </tr>\n",
       "    <tr>\n",
       "      <th>bed</th>\n",
       "      <td>27617.00</td>\n",
       "      <td>3.30</td>\n",
       "      <td>0.92</td>\n",
       "      <td>0.00</td>\n",
       "      <td>3.00</td>\n",
       "      <td>3.00</td>\n",
       "      <td>4.00</td>\n",
       "      <td>12.00</td>\n",
       "    </tr>\n",
       "    <tr>\n",
       "      <th>bath</th>\n",
       "      <td>27617.00</td>\n",
       "      <td>2.28</td>\n",
       "      <td>0.95</td>\n",
       "      <td>0.00</td>\n",
       "      <td>2.00</td>\n",
       "      <td>2.00</td>\n",
       "      <td>3.00</td>\n",
       "      <td>10.00</td>\n",
       "    </tr>\n",
       "    <tr>\n",
       "      <th>sqft</th>\n",
       "      <td>27617.00</td>\n",
       "      <td>1889.04</td>\n",
       "      <td>883.33</td>\n",
       "      <td>240.00</td>\n",
       "      <td>1273.00</td>\n",
       "      <td>1660.00</td>\n",
       "      <td>2288.00</td>\n",
       "      <td>11020.00</td>\n",
       "    </tr>\n",
       "    <tr>\n",
       "      <th>tax_value</th>\n",
       "      <td>27617.00</td>\n",
       "      <td>474910.20</td>\n",
       "      <td>408708.68</td>\n",
       "      <td>1000.00</td>\n",
       "      <td>195981.00</td>\n",
       "      <td>376813.00</td>\n",
       "      <td>615002.00</td>\n",
       "      <td>2642313.00</td>\n",
       "    </tr>\n",
       "    <tr>\n",
       "      <th>yearbuilt</th>\n",
       "      <td>27617.00</td>\n",
       "      <td>1963.58</td>\n",
       "      <td>22.95</td>\n",
       "      <td>1878.00</td>\n",
       "      <td>1950.00</td>\n",
       "      <td>1961.00</td>\n",
       "      <td>1979.00</td>\n",
       "      <td>2016.00</td>\n",
       "    </tr>\n",
       "    <tr>\n",
       "      <th>taxamount</th>\n",
       "      <td>27617.00</td>\n",
       "      <td>5820.45</td>\n",
       "      <td>4770.37</td>\n",
       "      <td>51.26</td>\n",
       "      <td>2675.83</td>\n",
       "      <td>4668.36</td>\n",
       "      <td>7322.89</td>\n",
       "      <td>61992.63</td>\n",
       "    </tr>\n",
       "    <tr>\n",
       "      <th>fips</th>\n",
       "      <td>27617.00</td>\n",
       "      <td>6049.53</td>\n",
       "      <td>21.30</td>\n",
       "      <td>6037.00</td>\n",
       "      <td>6037.00</td>\n",
       "      <td>6037.00</td>\n",
       "      <td>6059.00</td>\n",
       "      <td>6111.00</td>\n",
       "    </tr>\n",
       "    <tr>\n",
       "      <th>zscore</th>\n",
       "      <td>27617.00</td>\n",
       "      <td>-0.08</td>\n",
       "      <td>0.58</td>\n",
       "      <td>-0.76</td>\n",
       "      <td>-0.48</td>\n",
       "      <td>-0.22</td>\n",
       "      <td>0.12</td>\n",
       "      <td>3.00</td>\n",
       "    </tr>\n",
       "    <tr>\n",
       "      <th>encoded_county</th>\n",
       "      <td>27617.00</td>\n",
       "      <td>0.45</td>\n",
       "      <td>0.65</td>\n",
       "      <td>0.00</td>\n",
       "      <td>0.00</td>\n",
       "      <td>0.00</td>\n",
       "      <td>1.00</td>\n",
       "      <td>2.00</td>\n",
       "    </tr>\n",
       "    <tr>\n",
       "      <th>tax_rate</th>\n",
       "      <td>27617.00</td>\n",
       "      <td>0.01</td>\n",
       "      <td>0.01</td>\n",
       "      <td>0.00</td>\n",
       "      <td>0.01</td>\n",
       "      <td>0.01</td>\n",
       "      <td>0.01</td>\n",
       "      <td>0.82</td>\n",
       "    </tr>\n",
       "    <tr>\n",
       "      <th>tax_rate_cent</th>\n",
       "      <td>27617.00</td>\n",
       "      <td>1.34</td>\n",
       "      <td>0.74</td>\n",
       "      <td>0.01</td>\n",
       "      <td>1.16</td>\n",
       "      <td>1.23</td>\n",
       "      <td>1.37</td>\n",
       "      <td>81.65</td>\n",
       "    </tr>\n",
       "  </tbody>\n",
       "</table>\n",
       "</div>"
      ],
      "text/plain": [
       "                   count         mean         std          min          25%  \\\n",
       "parcelid        27617.00  13034787.36  3545074.67  10711855.00  11503331.00   \n",
       "bed             27617.00         3.30        0.92         0.00         3.00   \n",
       "bath            27617.00         2.28        0.95         0.00         2.00   \n",
       "sqft            27617.00      1889.04      883.33       240.00      1273.00   \n",
       "tax_value       27617.00    474910.20   408708.68      1000.00    195981.00   \n",
       "yearbuilt       27617.00      1963.58       22.95      1878.00      1950.00   \n",
       "taxamount       27617.00      5820.45     4770.37        51.26      2675.83   \n",
       "fips            27617.00      6049.53       21.30      6037.00      6037.00   \n",
       "zscore          27617.00        -0.08        0.58        -0.76        -0.48   \n",
       "encoded_county  27617.00         0.45        0.65         0.00         0.00   \n",
       "tax_rate        27617.00         0.01        0.01         0.00         0.01   \n",
       "tax_rate_cent   27617.00         1.34        0.74         0.01         1.16   \n",
       "\n",
       "                        50%          75%           max  \n",
       "parcelid        12606905.00  14149013.00  167639152.00  \n",
       "bed                    3.00         4.00         12.00  \n",
       "bath                   2.00         3.00         10.00  \n",
       "sqft                1660.00      2288.00      11020.00  \n",
       "tax_value         376813.00    615002.00    2642313.00  \n",
       "yearbuilt           1961.00      1979.00       2016.00  \n",
       "taxamount           4668.36      7322.89      61992.63  \n",
       "fips                6037.00      6059.00       6111.00  \n",
       "zscore                -0.22         0.12          3.00  \n",
       "encoded_county         0.00         1.00          2.00  \n",
       "tax_rate               0.01         0.01          0.82  \n",
       "tax_rate_cent          1.23         1.37         81.65  "
      ]
     },
     "execution_count": 9,
     "metadata": {},
     "output_type": "execute_result"
    }
   ],
   "source": [
    "# describe the new df\n",
    "zillow_df.describe().apply(lambda x: x.apply('{0:.2f}'.format)).T"
   ]
  },
  {
   "cell_type": "markdown",
   "metadata": {},
   "source": [
    "#### Cleaning Takeaways\n",
    "> Total rows went from 28124 entries to 27617. Not a bad loss"
   ]
  },
  {
   "cell_type": "code",
   "execution_count": 10,
   "metadata": {},
   "outputs": [
    {
     "data": {
      "image/png": "[encoded data removed]",
      "text/plain": [
       "<Figure size 432x288 with 1 Axes>"
      ]
     },
     "metadata": {
      "needs_background": "light"
     },
     "output_type": "display_data"
    },
    {
     "data": {
      "image/png": "[encoded data removed]",
      "text/plain": [
       "<Figure size 432x288 with 1 Axes>"
      ]
     },
     "metadata": {
      "needs_background": "light"
     },
     "output_type": "display_data"
    },
    {
     "data": {
      "image/png": "[encoded data removed]",
      "text/plain": [
       "<Figure size 432x288 with 1 Axes>"
      ]
     },
     "metadata": {
      "needs_background": "light"
     },
     "output_type": "display_data"
    },
    {
     "data": {
      "image/png": "[encoded data removed]",
      "text/plain": [
       "<Figure size 432x288 with 1 Axes>"
      ]
     },
     "metadata": {
      "needs_background": "light"
     },
     "output_type": "display_data"
    }
   ],
   "source": [
    "for x in zillow_df[['bed','bath','sqft','tax_value']]:\n",
    "    sns.histplot(zillow_df[x], bins = 20, kde = True)\n",
    "    plt.title(f'Distribution of {x}')\n",
    "    plt.tight_layout()\n",
    "    plt.show()"
   ]
  },
  {
   "cell_type": "markdown",
   "metadata": {},
   "source": [
    "#### Distribution Takeaway\n",
    "> tax_value is not normally distributed, will probably have to do a polynomial regression"
   ]
  },
  {
   "cell_type": "markdown",
   "metadata": {},
   "source": [
    "### Project Deliverable \n",
    "Tax Rates by County"
   ]
  },
  {
   "cell_type": "code",
   "execution_count": 11,
   "metadata": {},
   "outputs": [
    {
     "data": {
      "text/plain": [
       "Text(0.5, 1.0, 'Distributions of Tax Rates by County')"
      ]
     },
     "execution_count": 11,
     "metadata": {},
     "output_type": "execute_result"
    },
    {
     "data": {
      "image/png": "[encoded data removed]",
      "text/plain": [
       "<Figure size 1008x720 with 1 Axes>"
      ]
     },
     "metadata": {
      "needs_background": "light"
     },
     "output_type": "display_data"
    }
   ],
   "source": [
    "# distribution of tax rates by county\n",
    "plt.figure(figsize=(14,10))\n",
    "sns.histplot(data=zillow_df, x='tax_rate_cent', hue='county', bins = 1000)\n",
    "plt.xlim(0.0, 3)\n",
    "plt.xlabel('Tax Rate Percentage'.format(x))\n",
    "plt.title('Distributions of Tax Rates by County')"
   ]
  },
  {
   "cell_type": "markdown",
   "metadata": {},
   "source": [
    "#### Takeaway\n",
    "> - LA has the most houses sold during the hot months, and is the farthest right skewed\n",
    "> - Orange county is more tightly distributed, with most values between 1% and 1.5%\n",
    "> - Ventura has the lowest count but is the most normally distributed"
   ]
  },
  {
   "cell_type": "code",
   "execution_count": 12,
   "metadata": {},
   "outputs": [],
   "source": [
    "# Split data before scaling so we can fit the model to x train\n",
    "train, validate, test = prepare.train_validate_test_split(zillow_df)\n",
    "X_train = train[['bed','bath','sqft']]\n",
    "X_validate = validate[['bed','bath','sqft']]\n",
    "X_test = test[['bed','bath','sqft']]\n",
    "y_train = pd.DataFrame(train['tax_value'])\n",
    "y_validate = pd.DataFrame(validate['tax_value'])\n",
    "y_test = pd.DataFrame(test['tax_value'])"
   ]
  },
  {
   "cell_type": "code",
   "execution_count": 13,
   "metadata": {},
   "outputs": [],
   "source": [
    "# scale using minmax scaler\n",
    "X_train_scaled = prepare.minmax_scale(X_train, X_train)\n",
    "X_validate_scaled = prepare.minmax_scale(X_validate, X_train)\n",
    "X_test_scaled = prepare.minmax_scale(X_test, X_train)"
   ]
  },
  {
   "cell_type": "markdown",
   "metadata": {},
   "source": [
    "Data Dictionary:\n",
    "- bed : number of bedrooms in the house \n",
    "- bath : number of bathrooms in the house. It is measured in increments of .5\n",
    "- sqft : calculated square footage of the house. This was used over other square footage columns due to the completeness of the column. \n",
    "- tax_value : the data target we are trying to predict. It is the assessed tax value in USD. \n",
    "- fips/county : info was found from the USDA [website](https://www.nrcs.usda.gov/wps/portal/nrcs/detail/national/home/?cid=nrcs143_013697). Codes are as follows:\n",
    "    - 6037 = Los Angeles(LA) County, California\n",
    "    - 6059 = Orange County, California\n",
    "    - 6111 = Ventura County, California"
   ]
  },
  {
   "cell_type": "markdown",
   "metadata": {},
   "source": [
    "## Data Exploration"
   ]
  },
  {
   "cell_type": "markdown",
   "metadata": {},
   "source": [
    "### Establish initial hypotheses \n",
    "> 1. I believe that tax rates will be correlated with square footage and as an extension bedroom and bathroom count\n",
    "> 2. I believe that tax rates will significantly vary between the counties"
   ]
  },
  {
   "cell_type": "code",
   "execution_count": 14,
   "metadata": {},
   "outputs": [],
   "source": [
    "# create dataframes seperated by county\n",
    "la_df = train[train['county'] == 'LA']\n",
    "orange_df = train[train['county'] == 'Orange']\n",
    "vent_df = train[train['county'] == 'Ventura']"
   ]
  },
  {
   "cell_type": "code",
   "execution_count": 15,
   "metadata": {},
   "outputs": [
    {
     "data": {
      "text/plain": [
       "NormaltestResult(statistic=4422.324664177488, pvalue=0.0)"
      ]
     },
     "execution_count": 15,
     "metadata": {},
     "output_type": "execute_result"
    }
   ],
   "source": [
    "stats.normaltest(la_df['tax_value'])"
   ]
  },
  {
   "cell_type": "code",
   "execution_count": 16,
   "metadata": {},
   "outputs": [
    {
     "data": {
      "text/plain": [
       "NormaltestResult(statistic=1344.724970203391, pvalue=9.923911475638716e-293)"
      ]
     },
     "execution_count": 16,
     "metadata": {},
     "output_type": "execute_result"
    }
   ],
   "source": [
    "stats.normaltest(orange_df['tax_value'])"
   ]
  },
  {
   "cell_type": "code",
   "execution_count": 17,
   "metadata": {},
   "outputs": [
    {
     "data": {
      "text/plain": [
       "NormaltestResult(statistic=381.6070227145728, pvalue=1.3648593202249438e-83)"
      ]
     },
     "execution_count": 17,
     "metadata": {},
     "output_type": "execute_result"
    }
   ],
   "source": [
    "stats.normaltest(vent_df['tax_value'])"
   ]
  },
  {
   "cell_type": "markdown",
   "metadata": {},
   "source": [
    "> all values are not normal. Must use a non-parametric test (mann-witney U)"
   ]
  },
  {
   "cell_type": "markdown",
   "metadata": {},
   "source": [
    "**Hypothesis 1 -** Null rejected using a Mann-Whitney U test\n",
    "- alpha = .05\n",
    "- $H_0$: The tax_rate in LA is not different than the mean rates in Ventura and Orange counties. \n",
    "- $H_a$: The tax_rate in LA is different than the mean rates in Ventura and Orange counties."
   ]
  },
  {
   "cell_type": "code",
   "execution_count": 18,
   "metadata": {},
   "outputs": [
    {
     "data": {
      "text/plain": [
       "MannwhitneyuResult(statistic=21434382.0, pvalue=9.386280990934584e-122)"
      ]
     },
     "execution_count": 18,
     "metadata": {},
     "output_type": "execute_result"
    }
   ],
   "source": [
    "# test LA mean tax value against the tax values of the other two counties\n",
    "stats.mannwhitneyu(la_df['tax_value'], train[train['county'] != 'LA']['tax_value'])"
   ]
  },
  {
   "cell_type": "markdown",
   "metadata": {},
   "source": [
    "**Hypothesis 2 -** Null rejected using a Mann-Whitney U test\n",
    "- alpha = .05\n",
    "- $H_0$: The tax_rate in Ventura is not different than the mean rates in LA and Orange counties. \n",
    "- $H_a$: The tax_rate in Ventura is different than the mean rates in LA and Orange counties. "
   ]
  },
  {
   "cell_type": "code",
   "execution_count": 19,
   "metadata": {},
   "outputs": [
    {
     "data": {
      "text/plain": [
       "MannwhitneyuResult(statistic=18732552.0, pvalue=2.2071541196202066e-96)"
      ]
     },
     "execution_count": 19,
     "metadata": {},
     "output_type": "execute_result"
    }
   ],
   "source": [
    "# test Orange County mean tax value against the tax values of the other two counties\n",
    "stats.mannwhitneyu(orange_df['tax_value'], train[train['county'] != 'Orange']['tax_value'])"
   ]
  },
  {
   "cell_type": "markdown",
   "metadata": {},
   "source": [
    "**Hypothesis 3 -** Null rejected using a Mann-Whitney U test\n",
    "- alpha = .05\n",
    "- $H_0$: The tax_rate in Orange is not different than the mean rates in Ventura and LA counties. \n",
    "- $H_a$: The tax_rate in Orange is different than the mean rates in Ventura and LA counties. "
   ]
  },
  {
   "cell_type": "code",
   "execution_count": 20,
   "metadata": {},
   "outputs": [
    {
     "data": {
      "text/plain": [
       "MannwhitneyuResult(statistic=8536186.0, pvalue=1.493642128460646e-12)"
      ]
     },
     "execution_count": 20,
     "metadata": {},
     "output_type": "execute_result"
    }
   ],
   "source": [
    "# # test LA mean tax value against the tax values of the other two counties\n",
    "stats.mannwhitneyu(vent_df['tax_value'], train[train['county'] != 'Ventura']['tax_value'])"
   ]
  },
  {
   "cell_type": "markdown",
   "metadata": {},
   "source": [
    "#### Means Testing Takeaways\n",
    "> all p values are below .05, thus we can reject the null and confirm that the mean tax rates vary significantly between counties."
   ]
  },
  {
   "cell_type": "markdown",
   "metadata": {},
   "source": [
    "**Hypothesis 4 -** Null rejected using Pearson's R test\n",
    "- alpha = .05\n",
    "- $H_0$: Tax_rate is not correlated with square footage. \n",
    "- $H_a$: Tax_rate is correlated with square footage."
   ]
  },
  {
   "cell_type": "code",
   "execution_count": 21,
   "metadata": {},
   "outputs": [
    {
     "data": {
      "text/plain": [
       "(0.6102466214688695, 0.0)"
      ]
     },
     "execution_count": 21,
     "metadata": {},
     "output_type": "execute_result"
    }
   ],
   "source": [
    "# pearsons test comparing square footage and tax value\n",
    "stats.pearsonr(X_train_scaled['sqft'],y_train['tax_value'])"
   ]
  },
  {
   "cell_type": "markdown",
   "metadata": {},
   "source": [
    "**Hypothesis 5 -** Null rejected using Pearson's R test\n",
    "- alpha = .05\n",
    "- $H_0$: Tax_rate is not correlated with bedrooms. \n",
    "- $H_a$: Tax_rate is correlated with bedrooms. "
   ]
  },
  {
   "cell_type": "code",
   "execution_count": 22,
   "metadata": {},
   "outputs": [
    {
     "data": {
      "text/plain": [
       "(0.29759060761156053, 9.341947129e-314)"
      ]
     },
     "execution_count": 22,
     "metadata": {},
     "output_type": "execute_result"
    }
   ],
   "source": [
    "# pearsons test comparing bedrooms and tax value\n",
    "stats.pearsonr(X_train_scaled['bed'],y_train['tax_value'])"
   ]
  },
  {
   "cell_type": "markdown",
   "metadata": {},
   "source": [
    "**Hypothesis 6 -** Null rejected using Pearson's R test\n",
    "- alpha = .05\n",
    "- $H_0$: Tax_rate is not correlated with bathrooms footage. \n",
    "- $H_a$: Tax_rate is correlated with bathrooms. "
   ]
  },
  {
   "cell_type": "code",
   "execution_count": 23,
   "metadata": {},
   "outputs": [
    {
     "data": {
      "text/plain": [
       "(0.5373914315198056, 0.0)"
      ]
     },
     "execution_count": 23,
     "metadata": {},
     "output_type": "execute_result"
    }
   ],
   "source": [
    "stats.pearsonr(X_train_scaled['bath'],y_train['tax_value'])"
   ]
  },
  {
   "cell_type": "markdown",
   "metadata": {},
   "source": [
    "#### Correlation Testing Takeaways\n",
    "> Bedrooms, bathrooms, and square footage all had p values less than .05, indicating that they are all correlated with tax_value"
   ]
  },
  {
   "cell_type": "markdown",
   "metadata": {},
   "source": [
    "### Exploration visualizations"
   ]
  },
  {
   "cell_type": "code",
   "execution_count": 24,
   "metadata": {},
   "outputs": [
    {
     "data": {
      "text/plain": [
       "<AxesSubplot:>"
      ]
     },
     "execution_count": 24,
     "metadata": {},
     "output_type": "execute_result"
    },
    {
     "data": {
      "image/png": "[encoded data removed]",
      "text/plain": [
       "<Figure size 432x288 with 2 Axes>"
      ]
     },
     "metadata": {
      "needs_background": "light"
     },
     "output_type": "display_data"
    }
   ],
   "source": [
    "explore.heat_corr(train[['tax_value','bed','bath','sqft','encoded_county']])"
   ]
  },
  {
   "cell_type": "markdown",
   "metadata": {},
   "source": [
    "#### Heatmap takeaway\n",
    "> - The county ended up being the weakest driver for depicting tax_value despite having significantly different means from each other.\n",
    "> - Both square footage and bathrooms have stronger correlations. \n",
    "> Bed is somewhat weak, but can be included in the list of features"
   ]
  },
  {
   "cell_type": "code",
   "execution_count": 25,
   "metadata": {},
   "outputs": [
    {
     "data": {
      "text/plain": [
       "<Figure size 720x720 with 0 Axes>"
      ]
     },
     "metadata": {},
     "output_type": "display_data"
    },
    {
     "data": {
      "image/png": "[encoded data removed]",
      "text/plain": [
       "<Figure size 360x360 with 1 Axes>"
      ]
     },
     "metadata": {
      "needs_background": "light"
     },
     "output_type": "display_data"
    }
   ],
   "source": [
    "plt.figure(figsize = (10,10))\n",
    "sns.lmplot(x = 'tax_value', y = 'sqft', data = train, hue = 'county', scatter_kws = {'alpha': 0.1}, line_kws ={'alpha': 2, 'linewidth' : 5}, legend = False)\n",
    "leg = plt.legend()\n",
    "for lh in leg.legendHandles: \n",
    "    lh.set_alpha(1)\n",
    "plt.title('Relationship between tax value and square footage', loc = 'left')\n",
    "plt.tight_layout()\n",
    "plt.show()"
   ]
  },
  {
   "cell_type": "markdown",
   "metadata": {},
   "source": [
    "#### Scatter Plot Takeaway \n",
    "> - Tax value has a positive correlation with square footage for all counties\n",
    "> - Ventura seems closest fit to a simple regression between counties\n",
    "> - LA county has quite a bit of variance and seems like the one with the highest error "
   ]
  },
  {
   "cell_type": "markdown",
   "metadata": {},
   "source": [
    "### Exploration Takeaways\n",
    "> - Square footage, bedroom count, and bathroom count are the strongest drivers of tax value\n",
    "> - Location by county is not very strong at all\n",
    "> - We will use the top 3 features in our regression model"
   ]
  },
  {
   "cell_type": "markdown",
   "metadata": {},
   "source": [
    "## Modeling"
   ]
  },
  {
   "cell_type": "code",
   "execution_count": 26,
   "metadata": {},
   "outputs": [],
   "source": [
    "# Mean is the stronger baseline with this data set\n",
    "train['mean_baseline'] = train['tax_value'].mean()"
   ]
  },
  {
   "cell_type": "code",
   "execution_count": 27,
   "metadata": {},
   "outputs": [
    {
     "name": "stdout",
     "output_type": "stream",
     "text": [
      "|Sum of Squared Errors: 2.567e+15\n",
      "|-----------------------------------\n",
      "|Mean Squared Error : 1.66e+11\n",
      "|-----------------------------------\n",
      "|Root Mean Squared Error : 4.074e+05\n"
     ]
    },
    {
     "data": {
      "text/plain": [
       "(None, None, None, None, None)"
      ]
     },
     "execution_count": 27,
     "metadata": {},
     "output_type": "execute_result"
    }
   ],
   "source": [
    "# evaluate baseline to determine baseline metrics. Score to beat is RMSE = 40739\n",
    "evaluate.baseline_mean_errors(train['tax_value'])"
   ]
  },
  {
   "cell_type": "code",
   "execution_count": 28,
   "metadata": {},
   "outputs": [
    {
     "name": "stdout",
     "output_type": "stream",
     "text": [
      "The best features are:['bed', 'bath', 'sqft']\n"
     ]
    }
   ],
   "source": [
    "# Feature selection to determine top values, also to confirm visual analysis\n",
    "explore.select_kbest(X_train_scaled, y_train)"
   ]
  },
  {
   "cell_type": "code",
   "execution_count": 29,
   "metadata": {},
   "outputs": [
    {
     "name": "stdout",
     "output_type": "stream",
     "text": [
      "Best features are ['bed', 'bath', 'sqft']\n"
     ]
    }
   ],
   "source": [
    "explore.rfe(X_train_scaled, y_train, k = 3)"
   ]
  },
  {
   "cell_type": "markdown",
   "metadata": {},
   "source": [
    "> features selected are bedroom count, bathroom count, and square footage"
   ]
  },
  {
   "cell_type": "markdown",
   "metadata": {},
   "source": [
    "#### OLS regression"
   ]
  },
  {
   "cell_type": "code",
   "execution_count": 30,
   "metadata": {},
   "outputs": [
    {
     "name": "stdout",
     "output_type": "stream",
     "text": [
      "RMSE for OLS using LinearRegression\n",
      "Training RMSE:  317591.3467458347 \n",
      "Validation RMSE:  316865.5998922466\n"
     ]
    }
   ],
   "source": [
    "# create linear model. Normalize set to either true or false does not affect the model's performance\n",
    "lm = LinearRegression(normalize=True)\n",
    "\n",
    "# fit model to scaled train dataset\n",
    "lm.fit(X_train_scaled, y_train.tax_value)\n",
    "\n",
    "# save predictions in the target train dataframe\n",
    "y_train['pred_lm'] = lm.predict(X_train_scaled)\n",
    "\n",
    "# calculate rmse \n",
    "rmse_train = mean_squared_error(y_train.tax_value, y_train.pred_lm)**(1/2)\n",
    "\n",
    "# replicate and save prediction the validate dataframe\n",
    "y_validate['pred_lm'] = lm.predict(X_validate_scaled)\n",
    "rmse_validate = mean_squared_error(y_validate.tax_value, y_validate.pred_lm)**(1/2)\n",
    "\n",
    "print(\"RMSE for OLS using LinearRegression\\nTraining RMSE: \", rmse_train, \n",
    "      \"\\nValidation RMSE: \", rmse_validate)"
   ]
  },
  {
   "cell_type": "code",
   "execution_count": 31,
   "metadata": {},
   "outputs": [
    {
     "data": {
      "text/html": [
       "<div>\n",
       "<style scoped>\n",
       "    .dataframe tbody tr th:only-of-type {\n",
       "        vertical-align: middle;\n",
       "    }\n",
       "\n",
       "    .dataframe tbody tr th {\n",
       "        vertical-align: top;\n",
       "    }\n",
       "\n",
       "    .dataframe thead th {\n",
       "        text-align: right;\n",
       "    }\n",
       "</style>\n",
       "<table border=\"1\" class=\"dataframe\">\n",
       "  <thead>\n",
       "    <tr style=\"text-align: right;\">\n",
       "      <th></th>\n",
       "      <th>metric</th>\n",
       "      <th>model_error</th>\n",
       "      <th>base_error</th>\n",
       "      <th>model_efficacy</th>\n",
       "    </tr>\n",
       "  </thead>\n",
       "  <tbody>\n",
       "    <tr>\n",
       "      <th>0</th>\n",
       "      <td>SSE</td>\n",
       "      <td>1.559866e+15</td>\n",
       "      <td>2.566729e+15</td>\n",
       "      <td>True</td>\n",
       "    </tr>\n",
       "    <tr>\n",
       "      <th>1</th>\n",
       "      <td>MSE</td>\n",
       "      <td>1.008643e+11</td>\n",
       "      <td>1.659702e+11</td>\n",
       "      <td>True</td>\n",
       "    </tr>\n",
       "    <tr>\n",
       "      <th>2</th>\n",
       "      <td>RMSE</td>\n",
       "      <td>3.175913e+05</td>\n",
       "      <td>4.073944e+05</td>\n",
       "      <td>True</td>\n",
       "    </tr>\n",
       "  </tbody>\n",
       "</table>\n",
       "</div>"
      ],
      "text/plain": [
       "  metric   model_error    base_error  model_efficacy\n",
       "0    SSE  1.559866e+15  2.566729e+15            True\n",
       "1    MSE  1.008643e+11  1.659702e+11            True\n",
       "2   RMSE  3.175913e+05  4.073944e+05            True"
      ]
     },
     "execution_count": 31,
     "metadata": {},
     "output_type": "execute_result"
    }
   ],
   "source": [
    "# determine if model is better than train baseline\n",
    "evaluate.better_than_baseline(y_train.tax_value, y_train.pred_lm)"
   ]
  },
  {
   "cell_type": "code",
   "execution_count": 32,
   "metadata": {},
   "outputs": [
    {
     "name": "stdout",
     "output_type": "stream",
     "text": [
      "|Slope of Regression: 0.3923\n",
      "|-----------------------------------\n",
      "|Regression intercept: 2.868e+05\n",
      "|-----------------------------------\n",
      "|r² = 0.39\n",
      "|-----------------------------------\n",
      "|p value = 0.0\n",
      "|-----------------------------------\n",
      "|Standard error : 0.003926\n"
     ]
    },
    {
     "data": {
      "text/plain": [
       "(None, None, None, None, None, None, None, None, None)"
      ]
     },
     "execution_count": 32,
     "metadata": {},
     "output_type": "execute_result"
    }
   ],
   "source": [
    "# get regression stats for the model \n",
    "evaluate.regression_stats(y_train.tax_value, y_train.pred_lm)"
   ]
  },
  {
   "cell_type": "code",
   "execution_count": 33,
   "metadata": {},
   "outputs": [
    {
     "data": {
      "text/html": [
       "<div>\n",
       "<style scoped>\n",
       "    .dataframe tbody tr th:only-of-type {\n",
       "        vertical-align: middle;\n",
       "    }\n",
       "\n",
       "    .dataframe tbody tr th {\n",
       "        vertical-align: top;\n",
       "    }\n",
       "\n",
       "    .dataframe thead th {\n",
       "        text-align: right;\n",
       "    }\n",
       "</style>\n",
       "<table border=\"1\" class=\"dataframe\">\n",
       "  <thead>\n",
       "    <tr style=\"text-align: right;\">\n",
       "      <th></th>\n",
       "      <th>metric</th>\n",
       "      <th>model_error</th>\n",
       "      <th>base_error</th>\n",
       "      <th>model_efficacy</th>\n",
       "    </tr>\n",
       "  </thead>\n",
       "  <tbody>\n",
       "    <tr>\n",
       "      <th>0</th>\n",
       "      <td>SSE</td>\n",
       "      <td>6.654764e+14</td>\n",
       "      <td>1.098350e+15</td>\n",
       "      <td>True</td>\n",
       "    </tr>\n",
       "    <tr>\n",
       "      <th>1</th>\n",
       "      <td>MSE</td>\n",
       "      <td>1.004038e+11</td>\n",
       "      <td>1.657136e+11</td>\n",
       "      <td>True</td>\n",
       "    </tr>\n",
       "    <tr>\n",
       "      <th>2</th>\n",
       "      <td>RMSE</td>\n",
       "      <td>3.168656e+05</td>\n",
       "      <td>4.070794e+05</td>\n",
       "      <td>True</td>\n",
       "    </tr>\n",
       "  </tbody>\n",
       "</table>\n",
       "</div>"
      ],
      "text/plain": [
       "  metric   model_error    base_error  model_efficacy\n",
       "0    SSE  6.654764e+14  1.098350e+15            True\n",
       "1    MSE  1.004038e+11  1.657136e+11            True\n",
       "2   RMSE  3.168656e+05  4.070794e+05            True"
      ]
     },
     "execution_count": 33,
     "metadata": {},
     "output_type": "execute_result"
    }
   ],
   "source": [
    "# evaluate model on the validate set\n",
    "evaluate.better_than_baseline(y_validate.tax_value, y_validate.pred_lm)"
   ]
  },
  {
   "cell_type": "code",
   "execution_count": 34,
   "metadata": {},
   "outputs": [
    {
     "name": "stdout",
     "output_type": "stream",
     "text": [
      "|Slope of Regression: 0.4077\n",
      "|-----------------------------------\n",
      "|Regression intercept: 2.77e+05\n",
      "|-----------------------------------\n",
      "|r² = 0.39\n",
      "|-----------------------------------\n",
      "|p value = 0.0\n",
      "|-----------------------------------\n",
      "|Standard error : 0.006202\n"
     ]
    },
    {
     "data": {
      "text/plain": [
       "(None, None, None, None, None, None, None, None, None)"
      ]
     },
     "execution_count": 34,
     "metadata": {},
     "output_type": "execute_result"
    }
   ],
   "source": [
    "# get stats for the model uing the validate set\n",
    "evaluate.regression_stats(y_validate.tax_value, y_validate.pred_lm)"
   ]
  },
  {
   "cell_type": "markdown",
   "metadata": {},
   "source": [
    "#### OLS Takeaways\n",
    "> - Linear model does better than the baseline in both data sets\n",
    "> - Model has slightly less error in the train set versus the validate, implying it is slightly overfit\n",
    "> - r2 is on the weaker side, but it is a good start"
   ]
  },
  {
   "cell_type": "markdown",
   "metadata": {},
   "source": [
    "#### LASSO + LARS"
   ]
  },
  {
   "cell_type": "code",
   "execution_count": 35,
   "metadata": {},
   "outputs": [
    {
     "name": "stdout",
     "output_type": "stream",
     "text": [
      "RMSE for Lasso + Lars\n",
      "Training:  317591.49729632493 \n",
      "Validation:  316867.1518586373\n"
     ]
    }
   ],
   "source": [
    "# create model\n",
    "lars = LassoLars(alpha=1.0)\n",
    "\n",
    "# fit model object to scaled data set. \n",
    "lars.fit(X_train_scaled[['bed','bath','sqft']], y_train.tax_value)\n",
    "\n",
    "# save predictions in the target train dataframe\n",
    "y_train['pred_lars'] = lars.predict(X_train_scaled[['bed','bath','sqft']])\n",
    "\n",
    "# calculate rmse\n",
    "rmse_train = mean_squared_error(y_train.tax_value, y_train.pred_lars)**(1/2)\n",
    "\n",
    "# save predictions in the target validate dataframe\n",
    "y_validate['pred_lars'] = lars.predict(X_validate_scaled[['bed','bath','sqft']])\n",
    "\n",
    "# calculate rmse\n",
    "rmse_validate = mean_squared_error(y_validate.tax_value, y_validate.pred_lars)**(1/2)\n",
    "print(\"RMSE for Lasso + Lars\\nTraining: \", rmse_train, \n",
    "      \"\\nValidation: \", rmse_validate)"
   ]
  },
  {
   "cell_type": "code",
   "execution_count": 36,
   "metadata": {},
   "outputs": [
    {
     "data": {
      "text/html": [
       "<div>\n",
       "<style scoped>\n",
       "    .dataframe tbody tr th:only-of-type {\n",
       "        vertical-align: middle;\n",
       "    }\n",
       "\n",
       "    .dataframe tbody tr th {\n",
       "        vertical-align: top;\n",
       "    }\n",
       "\n",
       "    .dataframe thead th {\n",
       "        text-align: right;\n",
       "    }\n",
       "</style>\n",
       "<table border=\"1\" class=\"dataframe\">\n",
       "  <thead>\n",
       "    <tr style=\"text-align: right;\">\n",
       "      <th></th>\n",
       "      <th>metric</th>\n",
       "      <th>model_error</th>\n",
       "      <th>base_error</th>\n",
       "      <th>model_efficacy</th>\n",
       "    </tr>\n",
       "  </thead>\n",
       "  <tbody>\n",
       "    <tr>\n",
       "      <th>0</th>\n",
       "      <td>SSE</td>\n",
       "      <td>1.559867e+15</td>\n",
       "      <td>2.566729e+15</td>\n",
       "      <td>True</td>\n",
       "    </tr>\n",
       "    <tr>\n",
       "      <th>1</th>\n",
       "      <td>MSE</td>\n",
       "      <td>1.008644e+11</td>\n",
       "      <td>1.659702e+11</td>\n",
       "      <td>True</td>\n",
       "    </tr>\n",
       "    <tr>\n",
       "      <th>2</th>\n",
       "      <td>RMSE</td>\n",
       "      <td>3.175915e+05</td>\n",
       "      <td>4.073944e+05</td>\n",
       "      <td>True</td>\n",
       "    </tr>\n",
       "  </tbody>\n",
       "</table>\n",
       "</div>"
      ],
      "text/plain": [
       "  metric   model_error    base_error  model_efficacy\n",
       "0    SSE  1.559867e+15  2.566729e+15            True\n",
       "1    MSE  1.008644e+11  1.659702e+11            True\n",
       "2   RMSE  3.175915e+05  4.073944e+05            True"
      ]
     },
     "execution_count": 36,
     "metadata": {},
     "output_type": "execute_result"
    }
   ],
   "source": [
    "# determine if model is better than train baseline\n",
    "evaluate.better_than_baseline(y_train.tax_value, y_train.pred_lars)"
   ]
  },
  {
   "cell_type": "code",
   "execution_count": 37,
   "metadata": {},
   "outputs": [
    {
     "name": "stdout",
     "output_type": "stream",
     "text": [
      "|Slope of Regression: 0.392\n",
      "|-----------------------------------\n",
      "|Regression intercept: 2.869e+05\n",
      "|-----------------------------------\n",
      "|r² = 0.39\n",
      "|-----------------------------------\n",
      "|p value = 0.0\n",
      "|-----------------------------------\n",
      "|Standard error : 0.003924\n"
     ]
    },
    {
     "data": {
      "text/plain": [
       "(None, None, None, None, None, None, None, None, None)"
      ]
     },
     "execution_count": 37,
     "metadata": {},
     "output_type": "execute_result"
    }
   ],
   "source": [
    "# get regression stats for the lasso model\n",
    "evaluate.regression_stats(y_train.tax_value, y_train.pred_lars)"
   ]
  },
  {
   "cell_type": "code",
   "execution_count": 38,
   "metadata": {},
   "outputs": [
    {
     "data": {
      "text/html": [
       "<div>\n",
       "<style scoped>\n",
       "    .dataframe tbody tr th:only-of-type {\n",
       "        vertical-align: middle;\n",
       "    }\n",
       "\n",
       "    .dataframe tbody tr th {\n",
       "        vertical-align: top;\n",
       "    }\n",
       "\n",
       "    .dataframe thead th {\n",
       "        text-align: right;\n",
       "    }\n",
       "</style>\n",
       "<table border=\"1\" class=\"dataframe\">\n",
       "  <thead>\n",
       "    <tr style=\"text-align: right;\">\n",
       "      <th></th>\n",
       "      <th>metric</th>\n",
       "      <th>model_error</th>\n",
       "      <th>base_error</th>\n",
       "      <th>model_efficacy</th>\n",
       "    </tr>\n",
       "  </thead>\n",
       "  <tbody>\n",
       "    <tr>\n",
       "      <th>0</th>\n",
       "      <td>SSE</td>\n",
       "      <td>6.654830e+14</td>\n",
       "      <td>1.098350e+15</td>\n",
       "      <td>True</td>\n",
       "    </tr>\n",
       "    <tr>\n",
       "      <th>1</th>\n",
       "      <td>MSE</td>\n",
       "      <td>1.004048e+11</td>\n",
       "      <td>1.657136e+11</td>\n",
       "      <td>True</td>\n",
       "    </tr>\n",
       "    <tr>\n",
       "      <th>2</th>\n",
       "      <td>RMSE</td>\n",
       "      <td>3.168672e+05</td>\n",
       "      <td>4.070794e+05</td>\n",
       "      <td>True</td>\n",
       "    </tr>\n",
       "  </tbody>\n",
       "</table>\n",
       "</div>"
      ],
      "text/plain": [
       "  metric   model_error    base_error  model_efficacy\n",
       "0    SSE  6.654830e+14  1.098350e+15            True\n",
       "1    MSE  1.004048e+11  1.657136e+11            True\n",
       "2   RMSE  3.168672e+05  4.070794e+05            True"
      ]
     },
     "execution_count": 38,
     "metadata": {},
     "output_type": "execute_result"
    }
   ],
   "source": [
    "# determine if model is better than the validate baseline\n",
    "evaluate.better_than_baseline(y_validate.tax_value, y_validate.pred_lars)"
   ]
  },
  {
   "cell_type": "code",
   "execution_count": 39,
   "metadata": {},
   "outputs": [
    {
     "name": "stdout",
     "output_type": "stream",
     "text": [
      "|Slope of Regression: 0.4074\n",
      "|-----------------------------------\n",
      "|Regression intercept: 2.771e+05\n",
      "|-----------------------------------\n",
      "|r² = 0.39\n",
      "|-----------------------------------\n",
      "|p value = 0.0\n",
      "|-----------------------------------\n",
      "|Standard error : 0.006198\n"
     ]
    },
    {
     "data": {
      "text/plain": [
       "(None, None, None, None, None, None, None, None, None)"
      ]
     },
     "execution_count": 39,
     "metadata": {},
     "output_type": "execute_result"
    }
   ],
   "source": [
    "# get regression stats\n",
    "evaluate.regression_stats(y_validate.tax_value, y_validate.pred_lars)"
   ]
  },
  {
   "cell_type": "markdown",
   "metadata": {},
   "source": [
    "#### LASSO + LARS Takeaway\n",
    "> - This model performs slightly worse than the OLS model \n",
    "> - Still performs better than the baseline\n",
    "> - r2 is worse than the OLS model\n",
    "> - model is overfit like the linear model"
   ]
  },
  {
   "cell_type": "markdown",
   "metadata": {},
   "source": [
    "#### Polynomial Regression Model"
   ]
  },
  {
   "cell_type": "code",
   "execution_count": 40,
   "metadata": {},
   "outputs": [],
   "source": [
    "# going to go with a polynomial model due to target distribution. Degree of 3 was found to be most effective hyperparameter.\n",
    "pf = sklearn.preprocessing.PolynomialFeatures(degree=3)\n",
    "\n",
    "# fit and transform X_train_scaled \n",
    "X_train_degree3 = pf.fit_transform(X_train_scaled[['bed','bath','sqft']])\n",
    "\n",
    "# transform X_validate_scaled & X_test_scaled\n",
    "X_validate_degree3 = pf.transform(X_validate_scaled[['bed','bath','sqft']])\n",
    "X_test_degree3 = pf.transform(X_test_scaled[['bed','bath','sqft']])"
   ]
  },
  {
   "cell_type": "code",
   "execution_count": 41,
   "metadata": {},
   "outputs": [
    {
     "name": "stdout",
     "output_type": "stream",
     "text": [
      "RMSE for PolyRegression \n",
      "Training:  314121.59728373145 \n",
      "Validation:  314393.9826546377\n"
     ]
    }
   ],
   "source": [
    "# Create model\n",
    "lm = LinearRegression(normalize=True)\n",
    "\n",
    "#fit the model to the transformed X_train. use the unmodified y_train.tax_value as a target\n",
    "lm.fit(X_train_degree3, y_train.tax_value)\n",
    "\n",
    "# create a prediction and save to y_train\n",
    "y_train['pred_lr'] = lm.predict(X_train_degree3)\n",
    "\n",
    "#calculate RMSE\n",
    "\n",
    "rmse_train = mean_squared_error(y_train.tax_value, y_train.pred_lr)**(1/2)\n",
    "\n",
    "# create prediction and save to y_validate\n",
    "y_validate['pred_lr'] = lm.predict(X_validate_degree3)\n",
    "\n",
    "# calculate RMSE\n",
    "rmse_validate = mean_squared_error(y_validate.tax_value, y_validate.pred_lr)**(1/2)\n",
    "\n",
    "print(\"RMSE for PolyRegression \\nTraining: \", rmse_train, \n",
    "      \"\\nValidation: \", rmse_validate)"
   ]
  },
  {
   "cell_type": "code",
   "execution_count": 42,
   "metadata": {},
   "outputs": [
    {
     "data": {
      "text/html": [
       "<div>\n",
       "<style scoped>\n",
       "    .dataframe tbody tr th:only-of-type {\n",
       "        vertical-align: middle;\n",
       "    }\n",
       "\n",
       "    .dataframe tbody tr th {\n",
       "        vertical-align: top;\n",
       "    }\n",
       "\n",
       "    .dataframe thead th {\n",
       "        text-align: right;\n",
       "    }\n",
       "</style>\n",
       "<table border=\"1\" class=\"dataframe\">\n",
       "  <thead>\n",
       "    <tr style=\"text-align: right;\">\n",
       "      <th></th>\n",
       "      <th>metric</th>\n",
       "      <th>model_error</th>\n",
       "      <th>base_error</th>\n",
       "      <th>model_efficacy</th>\n",
       "    </tr>\n",
       "  </thead>\n",
       "  <tbody>\n",
       "    <tr>\n",
       "      <th>0</th>\n",
       "      <td>SSE</td>\n",
       "      <td>1.525968e+15</td>\n",
       "      <td>2.566729e+15</td>\n",
       "      <td>True</td>\n",
       "    </tr>\n",
       "    <tr>\n",
       "      <th>1</th>\n",
       "      <td>MSE</td>\n",
       "      <td>9.867238e+10</td>\n",
       "      <td>1.659702e+11</td>\n",
       "      <td>True</td>\n",
       "    </tr>\n",
       "    <tr>\n",
       "      <th>2</th>\n",
       "      <td>RMSE</td>\n",
       "      <td>3.141216e+05</td>\n",
       "      <td>4.073944e+05</td>\n",
       "      <td>True</td>\n",
       "    </tr>\n",
       "  </tbody>\n",
       "</table>\n",
       "</div>"
      ],
      "text/plain": [
       "  metric   model_error    base_error  model_efficacy\n",
       "0    SSE  1.525968e+15  2.566729e+15            True\n",
       "1    MSE  9.867238e+10  1.659702e+11            True\n",
       "2   RMSE  3.141216e+05  4.073944e+05            True"
      ]
     },
     "execution_count": 42,
     "metadata": {},
     "output_type": "execute_result"
    }
   ],
   "source": [
    "# determine if model is better than baseline\n",
    "evaluate.better_than_baseline(y_train.tax_value, y_train.pred_lr)"
   ]
  },
  {
   "cell_type": "code",
   "execution_count": 43,
   "metadata": {},
   "outputs": [
    {
     "name": "stdout",
     "output_type": "stream",
     "text": [
      "|Slope of Regression: 0.4055\n",
      "|-----------------------------------\n",
      "|Regression intercept: 2.806e+05\n",
      "|-----------------------------------\n",
      "|r² = 0.41\n",
      "|-----------------------------------\n",
      "|p value = 0.0\n",
      "|-----------------------------------\n",
      "|Standard error : 0.003948\n"
     ]
    },
    {
     "data": {
      "text/plain": [
       "(None, None, None, None, None, None, None, None, None)"
      ]
     },
     "execution_count": 43,
     "metadata": {},
     "output_type": "execute_result"
    }
   ],
   "source": [
    "# get regression stats of the model\n",
    "evaluate.regression_stats(y_train.tax_value, y_train.pred_lr)"
   ]
  },
  {
   "cell_type": "code",
   "execution_count": 44,
   "metadata": {},
   "outputs": [
    {
     "data": {
      "text/html": [
       "<div>\n",
       "<style scoped>\n",
       "    .dataframe tbody tr th:only-of-type {\n",
       "        vertical-align: middle;\n",
       "    }\n",
       "\n",
       "    .dataframe tbody tr th {\n",
       "        vertical-align: top;\n",
       "    }\n",
       "\n",
       "    .dataframe thead th {\n",
       "        text-align: right;\n",
       "    }\n",
       "</style>\n",
       "<table border=\"1\" class=\"dataframe\">\n",
       "  <thead>\n",
       "    <tr style=\"text-align: right;\">\n",
       "      <th></th>\n",
       "      <th>metric</th>\n",
       "      <th>model_error</th>\n",
       "      <th>base_error</th>\n",
       "      <th>model_efficacy</th>\n",
       "    </tr>\n",
       "  </thead>\n",
       "  <tbody>\n",
       "    <tr>\n",
       "      <th>0</th>\n",
       "      <td>SSE</td>\n",
       "      <td>6.551352e+14</td>\n",
       "      <td>1.098350e+15</td>\n",
       "      <td>True</td>\n",
       "    </tr>\n",
       "    <tr>\n",
       "      <th>1</th>\n",
       "      <td>MSE</td>\n",
       "      <td>9.884358e+10</td>\n",
       "      <td>1.657136e+11</td>\n",
       "      <td>True</td>\n",
       "    </tr>\n",
       "    <tr>\n",
       "      <th>2</th>\n",
       "      <td>RMSE</td>\n",
       "      <td>3.143940e+05</td>\n",
       "      <td>4.070794e+05</td>\n",
       "      <td>True</td>\n",
       "    </tr>\n",
       "  </tbody>\n",
       "</table>\n",
       "</div>"
      ],
      "text/plain": [
       "  metric   model_error    base_error  model_efficacy\n",
       "0    SSE  6.551352e+14  1.098350e+15            True\n",
       "1    MSE  9.884358e+10  1.657136e+11            True\n",
       "2   RMSE  3.143940e+05  4.070794e+05            True"
      ]
     },
     "execution_count": 44,
     "metadata": {},
     "output_type": "execute_result"
    }
   ],
   "source": [
    "# determine if it still works for the validate set\n",
    "evaluate.better_than_baseline(y_validate.tax_value, y_validate.pred_lr)"
   ]
  },
  {
   "cell_type": "code",
   "execution_count": 45,
   "metadata": {},
   "outputs": [
    {
     "name": "stdout",
     "output_type": "stream",
     "text": [
      "|Slope of Regression: 0.4134\n",
      "|-----------------------------------\n",
      "|Regression intercept: 2.749e+05\n",
      "|-----------------------------------\n",
      "|r² = 0.4\n",
      "|-----------------------------------\n",
      "|p value = 0.0\n",
      "|-----------------------------------\n",
      "|Standard error : 0.006169\n"
     ]
    },
    {
     "data": {
      "text/plain": [
       "(None, None, None, None, None, None, None, None, None)"
      ]
     },
     "execution_count": 45,
     "metadata": {},
     "output_type": "execute_result"
    }
   ],
   "source": [
    "# get the stats for the model applied to y_validate\n",
    "evaluate.regression_stats(y_validate.tax_value, y_validate.pred_lr)"
   ]
  },
  {
   "cell_type": "markdown",
   "metadata": {},
   "source": [
    "#### Polynomial Regression Takeaway\n",
    "> - The model performs better than baseline\n",
    "> - This model performs the best out of the three models based off of error rates and r2\n",
    "> - This model is also the least overfit "
   ]
  },
  {
   "cell_type": "markdown",
   "metadata": {},
   "source": [
    "### Modeling takeaway\n",
    "> - Automated feature selection confirmed that bedroom count, bathroom count, and square footage were the 3 strongest driving features predicting tax value\n",
    "    - County the residence is located in was not as strong of a driving factor than I originally anticipated\n",
    "> - All of the models were effective at predicting tax values because they out-performed the baseline based off of RMSE and other model metrics\n",
    "> - Polynomial regression was the best model due to it's low RMSE score relative to the other scores, relatively high r2, and being the least overfit\n",
    "    - Setting the hyperparameter 'degrees' to 3 gave the best performance"
   ]
  },
  {
   "cell_type": "markdown",
   "metadata": {},
   "source": [
    "### Test Predictions"
   ]
  },
  {
   "cell_type": "code",
   "execution_count": 46,
   "metadata": {},
   "outputs": [
    {
     "name": "stdout",
     "output_type": "stream",
     "text": [
      "RMSE for PolyRegression \n",
      "Test:  321442.39273552457\n"
     ]
    }
   ],
   "source": [
    "#fit the model to the transformed X_train. use the unmodified y_test.tax_value as a target\n",
    "lm.fit(X_train_degree3, y_train.tax_value)\n",
    "\n",
    "# create a prediction and save to y_train\n",
    "y_test['pred_lr'] = lm.predict(X_test_degree3)\n",
    "\n",
    "#calculate RMSE\n",
    "\n",
    "rmse_train = mean_squared_error(y_test.tax_value, y_test.pred_lr)**(1/2)\n",
    "\n",
    "print(\"RMSE for PolyRegression \\nTest: \", rmse_train)"
   ]
  },
  {
   "cell_type": "code",
   "execution_count": 47,
   "metadata": {},
   "outputs": [
    {
     "data": {
      "text/html": [
       "<div>\n",
       "<style scoped>\n",
       "    .dataframe tbody tr th:only-of-type {\n",
       "        vertical-align: middle;\n",
       "    }\n",
       "\n",
       "    .dataframe tbody tr th {\n",
       "        vertical-align: top;\n",
       "    }\n",
       "\n",
       "    .dataframe thead th {\n",
       "        text-align: right;\n",
       "    }\n",
       "</style>\n",
       "<table border=\"1\" class=\"dataframe\">\n",
       "  <thead>\n",
       "    <tr style=\"text-align: right;\">\n",
       "      <th></th>\n",
       "      <th>metric</th>\n",
       "      <th>model_error</th>\n",
       "      <th>base_error</th>\n",
       "      <th>model_efficacy</th>\n",
       "    </tr>\n",
       "  </thead>\n",
       "  <tbody>\n",
       "    <tr>\n",
       "      <th>0</th>\n",
       "      <td>SSE</td>\n",
       "      <td>5.707685e+14</td>\n",
       "      <td>9.476542e+14</td>\n",
       "      <td>True</td>\n",
       "    </tr>\n",
       "    <tr>\n",
       "      <th>1</th>\n",
       "      <td>MSE</td>\n",
       "      <td>1.033252e+11</td>\n",
       "      <td>1.715522e+11</td>\n",
       "      <td>True</td>\n",
       "    </tr>\n",
       "    <tr>\n",
       "      <th>2</th>\n",
       "      <td>RMSE</td>\n",
       "      <td>3.214424e+05</td>\n",
       "      <td>4.141886e+05</td>\n",
       "      <td>True</td>\n",
       "    </tr>\n",
       "  </tbody>\n",
       "</table>\n",
       "</div>"
      ],
      "text/plain": [
       "  metric   model_error    base_error  model_efficacy\n",
       "0    SSE  5.707685e+14  9.476542e+14            True\n",
       "1    MSE  1.033252e+11  1.715522e+11            True\n",
       "2   RMSE  3.214424e+05  4.141886e+05            True"
      ]
     },
     "execution_count": 47,
     "metadata": {},
     "output_type": "execute_result"
    }
   ],
   "source": [
    "evaluate.better_than_baseline(y_test.tax_value, y_test.pred_lr)"
   ]
  },
  {
   "cell_type": "code",
   "execution_count": 48,
   "metadata": {},
   "outputs": [
    {
     "name": "stdout",
     "output_type": "stream",
     "text": [
      "|Slope of Regression: 0.4055\n",
      "|-----------------------------------\n",
      "|Regression intercept: 2.806e+05\n",
      "|-----------------------------------\n",
      "|r² = 0.41\n",
      "|-----------------------------------\n",
      "|p value = 0.0\n",
      "|-----------------------------------\n",
      "|Standard error : 0.003948\n"
     ]
    },
    {
     "data": {
      "text/plain": [
       "(None, None, None, None, None, None, None, None, None)"
      ]
     },
     "execution_count": 48,
     "metadata": {},
     "output_type": "execute_result"
    }
   ],
   "source": [
    "evaluate.regression_stats(y_train.tax_value, y_train.pred_lr)"
   ]
  },
  {
   "cell_type": "code",
   "execution_count": 49,
   "metadata": {},
   "outputs": [
    {
     "data": {
      "image/png": "[encoded data removed]",
      "text/plain": [
       "<Figure size 1440x576 with 1 Axes>"
      ]
     },
     "metadata": {
      "needs_background": "light"
     },
     "output_type": "display_data"
    }
   ],
   "source": [
    "# visualize the residuals\n",
    "plt.figure(figsize=(20,8))\n",
    "\n",
    "# plot predicitons vs actual\n",
    "sns.regplot(data=y_test, x=y_test.tax_value, y=y_test.pred_lr, \n",
    "            scatter_kws={'color':'lightblue'}, line_kws={'color':'red'})\n",
    "plt.xlabel(\"Actual Tax Value\", fontdict={'fontsize':15})\n",
    "plt.ylabel(\"Predicted Tax Value \", fontdict={'fontsize':15})\n",
    "plt.title(\"Polynomial Regression Model Residuals\", fontdict={'fontsize': 20})\n",
    "\n",
    "plt.show()\n"
   ]
  },
  {
   "cell_type": "markdown",
   "metadata": {},
   "source": [
    "## Conclusions\n",
    "- 3rd degree Polynomial Regression Model was the most effective with an r2 of .41\n",
    "- Most effective drivers for predicting tax value were:\n",
    "    - the number of bedrooms\n",
    "    - the number of bathrooms\n",
    "    - square footage\n",
    "- County location was less impactful that initially hypothesized\n",
    "- Mean error for the values are about $321,000 \n",
    "    - this could be improved on with some more feature engineering. Perhaps plot size, construction type, or story type of the building are additional features to look at\n",
    "    - The model does not predict as accurately when the actual tax value increases. This could be due to the aforementioned features\n",
    "- Given more time, I would like to feature engineer construction date to see if it is a driver for predicting tax values\n"
   ]
  }
 ],
 "metadata": {
  "kernelspec": {
   "display_name": "Python 3",
   "language": "python",
   "name": "python3"
  },
  "language_info": {
   "codemirror_mode": {
    "name": "ipython",
    "version": 3
   },
   "file_extension": ".py",
   "mimetype": "text/x-python",
   "name": "python",
   "nbconvert_exporter": "python",
   "pygments_lexer": "ipython3",
   "version": "3.8.5"
  }
 },
 "nbformat": 4,
 "nbformat_minor": 4
}
